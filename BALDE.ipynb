{
 "cells": [
  {
   "cell_type": "markdown",
   "id": "af78e32e-8f84-4cab-bbc6-addcdf7dfc62",
   "metadata": {},
   "source": [
    "#\n",
    "# **Água no balde girando: um estudo sobre hidrodinâmica**\n",
    "#### Grupo: Danielle Chagas, Eduarda Carvalho, Gustavo Verçosa, Isabela Beneti e Vitor Barelli\n",
    "#### Prof. Felipe Crasto"
   ]
  },
  {
   "cell_type": "markdown",
   "id": "ed95ae79-cc14-4180-bd32-a12e88345371",
   "metadata": {},
   "source": [
    "---\n",
    "\n",
    "No presente notebook, buscamos aplicar a fórmula obtida, através da análise de forças aplicadas em uma gota no problema do balde giratório, que descreve o formato do fluído presente nesse balde. A fórmula, demosntrada no trabalho, é dada por:\n",
    "\n",
    "$$y(x)= \\frac{\\omega^2 x^2}{2g} - \\frac{\\omega^2 d^2}{24g}$$\n",
    "\n",
    "Para tanto, desenvolvemos duas funções em python:\n",
    ">  `parabola_para_velocidade_angular`: calcula características do movimento do balde (velocidade angular e diâmetro do recipiente) a partir da equação da parábola;\n",
    "\n",
    ">  `velocidade_angular_para_parabola`: calcula a equação da parábola a partir de características do movimento do balde (velocidade angular e diâmetro do recipiente).\n"
   ]
  },
  {
   "cell_type": "markdown",
   "id": "1970dace-fd7c-4839-a9a8-aa9a5ef04024",
   "metadata": {},
   "source": [
    "---\n",
    "### Importações"
   ]
  },
  {
   "cell_type": "code",
   "execution_count": 1,
   "id": "f300018f-f35e-48e5-a4d9-fae93d416ce3",
   "metadata": {},
   "outputs": [],
   "source": [
    "import numpy as np\n",
    "import matplotlib.pyplot as plt"
   ]
  },
  {
   "cell_type": "markdown",
   "id": "0c571a70-2fc6-4855-a2aa-1a65e4251584",
   "metadata": {},
   "source": [
    "## Obtendo características do movimento a partir da parábola"
   ]
  },
  {
   "cell_type": "code",
   "execution_count": 44,
   "id": "165e5a4d-0f22-4c01-99ff-63b7ba1dfd24",
   "metadata": {},
   "outputs": [],
   "source": [
    "def parabola_para_velocidade_angular(funcao):\n",
    "    \"\"\" Função que calcula os valores de velocidade angular e do diâmetro de um recipente que gira em seu eixo de simetria\n",
    "    \n",
    "    Args: \n",
    "    \n",
    "    - funcao: função de segundo grau que descreve a parábola formada pelo líquido dentro do recipiente\n",
    "    \n",
    "    Retorna: valor da velocidade angular desse recipiente em rad/s e do diâmetro do recipiente em metros \"\"\"\n",
    "    \n",
    "    # Calcula a derivada da função\n",
    "    def derivada(x):\n",
    "        h = 0.0001\n",
    "        return (funcao(x + h) - funcao(x)) / h\n",
    "    # Extrai o coeficientes angular e linear da equação\n",
    "    coef_angular = derivada(1.0)/2\n",
    "    coef_linear = funcao(0.0)\n",
    "    # Calcula velocidade angular e diâmetro\n",
    "    velocidade_angular= (coef_angular*2*9.8)**(1/2)\n",
    "    diametro= (-((24*9.8*coef_linear)/(velocidade_angular**2)))**(1/2)\n",
    "    print(\"A velocidade angular é de\", velocidade_angular, \"rad/s. Já o diâmetro desse recipiente é de\", diametro, \"metros\")"
   ]
  },
  {
   "cell_type": "code",
   "execution_count": 45,
   "id": "49c945b4-63b8-400b-bc26-de148685fc70",
   "metadata": {},
   "outputs": [
    {
     "name": "stdout",
     "output_type": "stream",
     "text": [
      "A velocidade angular é de 30.48091947430902 rad/s. Já o diâmetro desse recipiente é de 0.1331188677675225 metros\n"
     ]
    }
   ],
   "source": [
    "def funcao(x):\n",
    "    return 47.4*(x**2) - 0.07\n",
    "parabola_para_velocidade_angular(funcao)"
   ]
  },
  {
   "cell_type": "markdown",
   "id": "9cf828e5-7677-41c2-9dbc-15d3cc0a445b",
   "metadata": {},
   "source": [
    "## Obtendo a  parábola a partir de características do movimento"
   ]
  },
  {
   "cell_type": "code",
   "execution_count": 55,
   "id": "ef6bf1de-e040-4593-b07f-5a63fda75520",
   "metadata": {},
   "outputs": [],
   "source": [
    "def velocidade_angular_para_parabola(w, d):\n",
    "    \"\"\" Função que obtem a parábola formada pelo líquido dentro do recipiente a partir dos valores de velocidade angular \n",
    "    e do diâmetro de um recipente que gira em seu eixo de simetria\n",
    "    \n",
    "    Args: \n",
    "    \n",
    "    - w: velocidade angular do recipiente\n",
    "    - d: diâmetro do recipiente\n",
    "    \n",
    "    \n",
    "    Retorna: função de segundo grau que descreve a parábola formada pelo líquido dentro do recipiente e seu gráfico \"\"\"\n",
    "    # Calcula a derivada da função\n",
    "    coef_angular = (w**2)/(2*9.8)\n",
    "    coef_linear = -((d**2)*(w**2)/(24*9.8))\n",
    "    # Cria um array de valores x\n",
    "    x = np.linspace(-d/2, d/2,1000)\n",
    "\n",
    "    # Calcula os valores correspondentes de y (equação de segundo grau)\n",
    "    y = coef_angular * x**2 + coef_linear\n",
    "    print(\"A equação que descreve a parábola formada pelo líquido é y=\", coef_angular, \"x²\", coef_linear, \"e seu formato é:\")\n",
    "    # Cria o plot\n",
    "    plt.plot(x, y)\n",
    "    x_min = -coef_linear / (2 * coef_angular)\n",
    "    y_min = coef_angular * x_min**2 + coef_linear * x_min\n",
    "    plt.fill_between(x, np.min(y), y, where=(x <= x_min), color='aqua', alpha=0.3)  # Preenche a área abaixo da curva com azul\n",
    "    plt.fill_between(x, np.min(y), y, where=(x > x_min), color='aqua', alpha=0.3)  # Preenche a área acima da curva com azul\n",
    "    plt.title('Gráfico da Equação de Segundo Grau')\n",
    "    plt.title('Formato da parábola formada pelo líquido')\n",
    "    plt.xlabel('x')\n",
    "    plt.ylabel('y')\n",
    "    plt.xlim(-d/2, d/2)\n",
    "\n",
    "    # Mostra o plot\n",
    "    plt.show()"
   ]
  },
  {
   "cell_type": "code",
   "execution_count": 60,
   "id": "dc68a37a-fd7f-4864-bd29-6dd75ee2e844",
   "metadata": {},
   "outputs": [
    {
     "name": "stdout",
     "output_type": "stream",
     "text": [
      "A equação que descreve a parábola formada pelo líquido é y= 0.0510204081632653 x² -7.185374149659864e-05 e seu formato é:\n"
     ]
    },
    {
     "data": {
      "image/png": "[encoded data removed]",
      "text/plain": [
       "<Figure size 432x288 with 1 Axes>"
      ]
     },
     "metadata": {
      "needs_background": "light"
     },
     "output_type": "display_data"
    }
   ],
   "source": [
    " velocidade_angular_para_parabola(1, 0.13)"
   ]
  },
  {
   "cell_type": "markdown",
   "id": "c77a3efe-9586-426f-883a-b994a01402e2",
   "metadata": {},
   "source": [
    "---\n",
    "## Conclusões\n",
    "\n",
    "Depois eu tiro que preguiça credo"
   ]
  }
 ],
 "metadata": {
  "kernelspec": {
   "display_name": "ilumpy",
   "language": "python",
   "name": "ilumpy"
  },
  "language_info": {
   "codemirror_mode": {
    "name": "ipython",
    "version": 3
   },
   "file_extension": ".py",
   "mimetype": "text/x-python",
   "name": "python",
   "nbconvert_exporter": "python",
   "pygments_lexer": "ipython3",
   "version": "3.9.7"
  }
 },
 "nbformat": 4,
 "nbformat_minor": 5
}
